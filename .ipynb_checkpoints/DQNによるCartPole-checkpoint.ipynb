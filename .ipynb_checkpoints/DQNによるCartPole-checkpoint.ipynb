{
 "cells": [
  {
   "cell_type": "markdown",
   "metadata": {
    "id": "i58tDO0e80z3"
   },
   "source": [
    "# 可視化のための依存環境&ライブラリ"
   ]
  },
  {
   "cell_type": "code",
   "execution_count": 1,
   "metadata": {
    "id": "dQlQBDyizoM3"
   },
   "outputs": [],
   "source": [
    "import gym\n",
    "import tensorflow as tf\n",
    "from tensorflow import keras\n",
    "from tensorflow.keras.models import Sequential\n",
    "from tensorflow.keras.layers import Flatten, Dense, Dropout, Activation\n",
    "import numpy as np\n",
    "import random\n",
    "import matplotlib\n",
    "import matplotlib.pyplot as plt\n",
    "%matplotlib inline\n",
    "from tqdm import tqdm\n",
    "from collections import deque\n",
    "# d = Display()\n",
    "# d.start()"
   ]
  },
  {
   "cell_type": "code",
   "execution_count": 2,
   "metadata": {
    "id": "LbwPVvVSii1G"
   },
   "outputs": [],
   "source": [
    "class QNetwork():\n",
    "  def __init__(self, action_space):\n",
    "\n",
    "    model = Sequential()\n",
    "    model.add(Dense(128, input_dim = 4))\n",
    "    model.add(Activation(\"relu\"))\n",
    "    model.add(Dense(128))\n",
    "    model.add(Activation(\"relu\"))\n",
    "    model.add(Dense(action_space))\n",
    "    opt = keras.optimizers.Adam(learning_rate=0.01)\n",
    "    model.compile(loss='mse', optimizer=opt)\n",
    "    self.model = model\n",
    "\n",
    "    model = Sequential()\n",
    "    model.add(Dense(128, input_dim = 4))\n",
    "    model.add(Activation(\"relu\"))\n",
    "    model.add(Dense(128))\n",
    "    model.add(Activation(\"relu\"))\n",
    "    model.add(Dense(action_space))\n",
    "    opt = keras.optimizers.Adam(learning_rate=0.01)\n",
    "    model.compile(loss='mse', optimizer=opt)\n",
    "    self.teacher_model = model\n",
    "    self.update_teacher()\n",
    "  \n",
    "  def predict(self, x):\n",
    "    y = self.model.predict(x)\n",
    "    return y\n",
    "\n",
    "  def predict_by_teacher(self, x):\n",
    "    y = self.teacher_model.predict(x)\n",
    "    return y\n",
    "\n",
    "  def update_teacher(self):\n",
    "    self.teacher_model.set_weights(self.model.get_weights())\n",
    "  \n",
    "\n",
    "  "
   ]
  },
  {
   "cell_type": "code",
   "execution_count": 4,
   "metadata": {
    "id": "rmPd7sz9731n"
   },
   "outputs": [],
   "source": [
    "class Trainer():\n",
    "  def __init__(self, env, max_len = 1024, batch = 64, gamma = 0.95):\n",
    "    self.gamma = gamma\n",
    "    self.env = env\n",
    "    self.env.reset()\n",
    "    self.QNet = QNetwork(2)\n",
    "    self.experiences = deque(maxlen = max_len)\n",
    "    self.batch_size = batch\n",
    "    self.training = False\n",
    "\n",
    "  def train(self):\n",
    "    self.run_episode()\n",
    "\n",
    "  def step(self, num, s):\n",
    "    next_s, reward, d, _  = self.env.step(num)\n",
    "    self.experiences.append([s, next_s, reward, d, num]) #[現在の状態, 変位先, 報酬, 終了か, actionの番号]\n",
    "    return next_s, reward, d\n",
    "\n",
    "  def policy(self, s, epsilon = 0.1):\n",
    "    if np.random.random() <= epsilon:\n",
    "      return np.random.randint(2)\n",
    "    else:\n",
    "      return np.argmax(self.QNet.predict(np.array([np.array(s)])))\n",
    "\n",
    "  def run_episode(self, times = 400):\n",
    "    all = [] \n",
    "    for cnt in tqdm(range(times)):\n",
    "      done = False\n",
    "      s = self.env.reset()\n",
    "      stand_count = 0\n",
    "\n",
    "      if cnt%10 == 0:\n",
    "        self.QNet.update_teacher()\n",
    "\n",
    "      if self.training:\n",
    "        self.update()\n",
    "\n",
    "      while not done:\n",
    "        stand_count += 1\n",
    "        next_s, reward, done = self.step(self.policy(s), s)\n",
    "        \n",
    "        if not self.training:\n",
    "          if len(self.experiences) == self.batch_size:\n",
    "            self.training = True\n",
    "        s = next_s\n",
    "        if done:\n",
    "          all.append(stand_count)\n",
    "          print(stand_count)\n",
    "\n",
    "    return plt.plot(all)\n",
    "\n",
    "\n",
    "  def update(self):\n",
    "    exp = random.sample(self.experiences, self.batch_size)\n",
    "    target = []\n",
    "    state = []\n",
    "    for e in exp:\n",
    "      s, next_s, reward, done, num = e\n",
    "      y = self.QNet.predict(np.array([np.array(s)]))\n",
    "      if not done:\n",
    "        reward += self.gamma * np.max(self.QNet.predict_by_teacher(np.array([np.array(next_s)])))\n",
    "\n",
    "      r = np.array([y[0][0], reward]) if num == 1 else np.array([reward, y[0][1]])\n",
    "      target.append(r)\n",
    "      state.append(s)\n",
    "\n",
    "    state = np.array(state)\n",
    "    target = np.array(target)\n",
    "    self.QNet.model.fit(state, target)\n",
    "\n",
    "  def show(self):\n",
    "    s = self.env.reset()\n",
    "    self.env.render()\n",
    "    done = False\n",
    "    while not done:\n",
    "        next_s, reward, done = self.step(np.argmax(self.QNet.predict(np.array([np.array(s)]))), s)\n",
    "        s = next_s\n",
    "        self.env.render()\n",
    "\n",
    "\n"
   ]
  },
  {
   "cell_type": "code",
   "execution_count": 5,
   "metadata": {
    "colab": {
     "base_uri": "https://localhost:8080/",
     "height": 1000
    },
    "id": "tA3nqkDYbi5g",
    "outputId": "6c5b0cf7-1ff0-4faa-d2d8-2d1582036ca4"
   },
   "outputs": [],
   "source": [
    "ENV = \"CartPole-v1\"\n",
    "env = gym.make(ENV)\n",
    "trainer = Trainer(env)\n",
    "trainer.QNet.model.load_weights(\"param.hdf5\")"
   ]
  },
  {
   "cell_type": "code",
   "execution_count": 12,
   "metadata": {
    "id": "1LSkMcsVHh_0"
   },
   "outputs": [],
   "source": [
    "# trainer.QNet.model.save_weights('param.hdf5')"
   ]
  },
  {
   "cell_type": "code",
   "execution_count": 15,
   "metadata": {
    "colab": {
     "base_uri": "https://localhost:8080/",
     "height": 17
    },
    "id": "fj3U7HDQH0-c",
    "outputId": "7600f205-cc4c-4cdb-cd4e-a2d4baf66193"
   },
   "outputs": [
    {
     "data": {
      "application/javascript": [
       "\n",
       "    async function download(id, filename, size) {\n",
       "      if (!google.colab.kernel.accessAllowed) {\n",
       "        return;\n",
       "      }\n",
       "      const div = document.createElement('div');\n",
       "      const label = document.createElement('label');\n",
       "      label.textContent = `Downloading \"${filename}\": `;\n",
       "      div.appendChild(label);\n",
       "      const progress = document.createElement('progress');\n",
       "      progress.max = size;\n",
       "      div.appendChild(progress);\n",
       "      document.body.appendChild(div);\n",
       "\n",
       "      const buffers = [];\n",
       "      let downloaded = 0;\n",
       "\n",
       "      const channel = await google.colab.kernel.comms.open(id);\n",
       "      // Send a message to notify the kernel that we're ready.\n",
       "      channel.send({})\n",
       "\n",
       "      for await (const message of channel.messages) {\n",
       "        // Send a message to notify the kernel that we're ready.\n",
       "        channel.send({})\n",
       "        if (message.buffers) {\n",
       "          for (const buffer of message.buffers) {\n",
       "            buffers.push(buffer);\n",
       "            downloaded += buffer.byteLength;\n",
       "            progress.value = downloaded;\n",
       "          }\n",
       "        }\n",
       "      }\n",
       "      const blob = new Blob(buffers, {type: 'application/binary'});\n",
       "      const a = document.createElement('a');\n",
       "      a.href = window.URL.createObjectURL(blob);\n",
       "      a.download = filename;\n",
       "      div.appendChild(a);\n",
       "      a.click();\n",
       "      div.remove();\n",
       "    }\n",
       "  "
      ],
      "text/plain": [
       "<IPython.core.display.Javascript object>"
      ]
     },
     "metadata": {
      "tags": []
     },
     "output_type": "display_data"
    },
    {
     "data": {
      "application/javascript": [
       "download(\"download_364c8dd8-8f68-4271-9c36-3dc8705948e6\", \"param.hdf5\", 85488)"
      ],
      "text/plain": [
       "<IPython.core.display.Javascript object>"
      ]
     },
     "metadata": {
      "tags": []
     },
     "output_type": "display_data"
    }
   ],
   "source": [
    "# from google.colab import files\n",
    "# files.download(\"./param.hdf5\")"
   ]
  },
  {
   "cell_type": "code",
   "execution_count": 8,
   "metadata": {
    "colab": {
     "base_uri": "https://localhost:8080/",
     "height": 479
    },
    "id": "NeaTh8naO88U",
    "outputId": "09055988-3c54-448f-cc7b-b788c52e58c3"
   },
   "outputs": [],
   "source": [
    "trainer.show()"
   ]
  },
  {
   "cell_type": "code",
   "execution_count": null,
   "metadata": {
    "id": "0OjT4HUBZ29y"
   },
   "outputs": [],
   "source": [
    "env = gym.make(\"CartPole-v1\")\n",
    "env.reset()\n",
    "env.render('rgb_array').shape\n",
    "img = plt.imshow(env.render('rgb_array'))\n",
    "for _ in range(100):\n",
    "    o, r, l, i = env.step(env.action_space.sample()) # 本当はDNNからアクションを入れる\n",
    "\n",
    "    display.clear_output(wait=True)\n",
    "    img.set_data(env.render('rgb_array'))\n",
    "    plt.axis('off')\n",
    "    display.display(plt.gcf())\n",
    "\n",
    "    if l:\n",
    "        env.reset()"
   ]
  },
  {
   "cell_type": "markdown",
   "metadata": {
    "id": "wheeUEnI8rZe"
   },
   "source": [
    "#学習"
   ]
  },
  {
   "cell_type": "code",
   "execution_count": null,
   "metadata": {
    "id": "oT6LS0Rvzpz5"
   },
   "outputs": [],
   "source": [
    "class SARSA:\n",
    "    def __init__(self, env):\n",
    "        self.env = env\n",
    "        self.env_low = self.env.observation_space.low # 状態最小値\n",
    "        self.env_high = self.env.observation_space.high #　状態最大値\n",
    "        self.env_dx = (self.env_high - self.env_low) / 10\n",
    "        \n",
    "        self.q_table = np.zeros((10,10,10,4))\n",
    "        \n",
    "    def get_status(self, _observation):\n",
    "        cos = int((_observation[0] - self.env_low[0])/self.env_dx[0])\n",
    "        sin = int((_observation[1] - self.env_low[1])/self.env_dx[1])\n",
    "        dot = int((_observation[2] - self.env_low[2])/self.env_dx[2])\n",
    "        return cos, sin, dot\n",
    "    \n",
    "    def policy(self, s, epi):\n",
    "        epsilon = 0.5 * (1 / (epi + 1))\n",
    "        if np.random.random() <= epsilon:\n",
    "            return [np.random.choice([-2, -1, 1, 2])]\n",
    "        else:\n",
    "            s1, s2, s3 = self.get_status(s)\n",
    "            return [np.argmax(self.q_table[s1][s2][s3])]\n",
    "    \n",
    "    def learn(self, time = 200000, alpha = 0.5, gamma = 0.99):\n",
    "        log = []\n",
    "        t_log = []\n",
    "        for j in range(time+1):\n",
    "            flag = 0\n",
    "            reward_flag = 0\n",
    "            t = 0\n",
    "            total = 0\n",
    "            s = self.env.reset()\n",
    "            done = False\n",
    "            \n",
    "            while not done:\n",
    "                t += 1\n",
    "                a = self.policy(s, j)\n",
    "                next_s, reward, done, _ = self.env.step(a)\n",
    "\n",
    "                if next_s[1] >= 0.95 and s[1] >= 0.95:\n",
    "                  flag += 1\n",
    "                elif next_s[1] >= 0.95 and s[1] < 0.95:\n",
    "                  flag = 1\n",
    "                elif next_s[1] < 0.95 and s[1] >= 0.95:\n",
    "                  flag = 0\n",
    "                elif next_s[1] < s[1] and s[1] >= 0.95:\n",
    "                  reward_flag = 1\n",
    "\n",
    "                if flag >= 20:\n",
    "                  reward += 100\n",
    "\n",
    "                # reward += flag * 50\n",
    "\n",
    "                # if reward_flag:\n",
    "                #   reward = -10000\n",
    "                \n",
    "                total += reward\n",
    "                \n",
    "                \n",
    "                s1, s2, s3 = self.get_status(next_s)\n",
    "                G = reward + gamma * self.q_table[s1][s2][s3][self.policy(next_s, j)]\n",
    "                \n",
    "                s1, s2, s3 = self.get_status(s)\n",
    "                self.q_table[s1][s2][s3][a] += alpha*(G - self.q_table[s1][s2][s3][a])\n",
    "                s = next_s\n",
    "\n",
    "                if flag >= 20:\n",
    "                  break\n",
    "\n",
    "            t_log.append(t)\n",
    "            log.append(total)\n",
    "            if j %100 == 0:\n",
    "              print(str(j) + \" ===total reward=== : \" + str(total))\n",
    "        fig = plt.figure()\n",
    "        ax1 = fig.add_subplot(1, 2, 1)\n",
    "        ax2 = fig.add_subplot(1, 2, 2)\n",
    "        return ax1.plot(log), ax2.plot(t_log)\n",
    "\n",
    "    def show(self):\n",
    "        s = self.env.reset()\n",
    "        img = self.env.render()\n",
    "        done = False\n",
    "        while not done:\n",
    "          a = self.policy(s, 10000)\n",
    "          s, _, done, _ = self.env.step(a)\n",
    "          self.env.render()\n",
    "                \n",
    "        self.env.reset()\n",
    "        self.env.close()"
   ]
  },
  {
   "cell_type": "code",
   "execution_count": null,
   "metadata": {
    "colab": {
     "base_uri": "https://localhost:8080/",
     "height": 656
    },
    "id": "9hrsv6XRzuI_",
    "outputId": "f11e24c9-3548-4c16-a455-06d3363813ed"
   },
   "outputs": [
    {
     "name": "stdout",
     "output_type": "stream",
     "text": [
      "0 ===total reward=== : -1277.3280521994568\n",
      "100 ===total reward=== : -1186.6047953878685\n",
      "200 ===total reward=== : -1492.4885401467793\n",
      "300 ===total reward=== : -1462.87365878591\n",
      "400 ===total reward=== : -1162.6948126972632\n",
      "500 ===total reward=== : -1238.0384351410544\n",
      "600 ===total reward=== : -924.5077059697396\n",
      "700 ===total reward=== : -968.6430100841661\n",
      "800 ===total reward=== : -1435.356354136592\n",
      "900 ===total reward=== : -1166.6736770111268\n",
      "1000 ===total reward=== : -1351.6269953360825\n",
      "1100 ===total reward=== : -1083.2169284264057\n",
      "1200 ===total reward=== : -8.572083341045575\n",
      "1300 ===total reward=== : -1044.4332747354342\n",
      "1400 ===total reward=== : -1197.2772695460628\n",
      "1500 ===total reward=== : -1343.6466217178972\n",
      "1600 ===total reward=== : -1478.9864352938175\n",
      "1700 ===total reward=== : -736.497842641837\n",
      "1800 ===total reward=== : -756.6663723781077\n",
      "1900 ===total reward=== : -727.1974096505647\n",
      "2000 ===total reward=== : -734.43198604135\n"
     ]
    },
    {
     "data": {
      "text/plain": [
       "([<matplotlib.lines.Line2D at 0x7feb32edec50>],\n",
       " [<matplotlib.lines.Line2D at 0x7feb32eded68>])"
      ]
     },
     "execution_count": 12,
     "metadata": {
      "tags": []
     },
     "output_type": "execute_result"
    },
    {
     "data": {
      "image/png": "[encoded data removed]",
      "text/plain": [
       "<Figure size 432x288 with 2 Axes>"
      ]
     },
     "metadata": {
      "needs_background": "light",
      "tags": []
     },
     "output_type": "display_data"
    }
   ],
   "source": [
    "env = gym.make(\"Pendulum-v0\")\n",
    "agent = SARSA(env)\n",
    "agent.learn(time = 2000)"
   ]
  },
  {
   "cell_type": "markdown",
   "metadata": {
    "id": "bsJXZMzt8fZF"
   },
   "source": [
    "## 変数の書き出し\n"
   ]
  },
  {
   "cell_type": "code",
   "execution_count": null,
   "metadata": {
    "id": "wjG0CXVj4Rgx"
   },
   "outputs": [],
   "source": [
    "np.save('test.npy', agent.q_table)"
   ]
  },
  {
   "cell_type": "code",
   "execution_count": null,
   "metadata": {
    "colab": {
     "base_uri": "https://localhost:8080/",
     "height": 17
    },
    "id": "IrPbK9UO6Ek3",
    "outputId": "5161ca84-2eb9-4b19-a7e2-445195bc24ad"
   },
   "outputs": [
    {
     "data": {
      "application/javascript": [
       "\n",
       "    async function download(id, filename, size) {\n",
       "      if (!google.colab.kernel.accessAllowed) {\n",
       "        return;\n",
       "      }\n",
       "      const div = document.createElement('div');\n",
       "      const label = document.createElement('label');\n",
       "      label.textContent = `Downloading \"${filename}\": `;\n",
       "      div.appendChild(label);\n",
       "      const progress = document.createElement('progress');\n",
       "      progress.max = size;\n",
       "      div.appendChild(progress);\n",
       "      document.body.appendChild(div);\n",
       "\n",
       "      const buffers = [];\n",
       "      let downloaded = 0;\n",
       "\n",
       "      const channel = await google.colab.kernel.comms.open(id);\n",
       "      // Send a message to notify the kernel that we're ready.\n",
       "      channel.send({})\n",
       "\n",
       "      for await (const message of channel.messages) {\n",
       "        // Send a message to notify the kernel that we're ready.\n",
       "        channel.send({})\n",
       "        if (message.buffers) {\n",
       "          for (const buffer of message.buffers) {\n",
       "            buffers.push(buffer);\n",
       "            downloaded += buffer.byteLength;\n",
       "            progress.value = downloaded;\n",
       "          }\n",
       "        }\n",
       "      }\n",
       "      const blob = new Blob(buffers, {type: 'application/binary'});\n",
       "      const a = document.createElement('a');\n",
       "      a.href = window.URL.createObjectURL(blob);\n",
       "      a.download = filename;\n",
       "      div.appendChild(a);\n",
       "      a.click();\n",
       "      div.remove();\n",
       "    }\n",
       "  "
      ],
      "text/plain": [
       "<IPython.core.display.Javascript object>"
      ]
     },
     "metadata": {
      "tags": []
     },
     "output_type": "display_data"
    },
    {
     "data": {
      "application/javascript": [
       "download(\"download_9ca99f3b-c4a0-4ed7-a49e-f2003d71c9e9\", \"test.npy\", 40960128)"
      ],
      "text/plain": [
       "<IPython.core.display.Javascript object>"
      ]
     },
     "metadata": {
      "tags": []
     },
     "output_type": "display_data"
    }
   ],
   "source": [
    "from google.colab import files\n",
    "files.download(\"test.npy\")"
   ]
  },
  {
   "cell_type": "markdown",
   "metadata": {
    "id": "63niY6uL8YAg"
   },
   "source": [
    "# google colablatoryによる可視化"
   ]
  },
  {
   "cell_type": "code",
   "execution_count": null,
   "metadata": {
    "colab": {
     "base_uri": "https://localhost:8080/",
     "height": 345
    },
    "id": "SdCt_AtFzwDa",
    "outputId": "8289ddf3-2590-4805-d186-aaf2a45a2ff3"
   },
   "outputs": [
    {
     "ename": "NameError",
     "evalue": "ignored",
     "output_type": "error",
     "traceback": [
      "\u001b[0;31m---------------------------------------------------------------------------\u001b[0m",
      "\u001b[0;31mNameError\u001b[0m                                 Traceback (most recent call last)",
      "\u001b[0;32m<ipython-input-60-9ba01a14b11d>\u001b[0m in \u001b[0;36m<module>\u001b[0;34m()\u001b[0m\n\u001b[1;32m      5\u001b[0m \u001b[0md\u001b[0m\u001b[0;34m.\u001b[0m\u001b[0mstart\u001b[0m\u001b[0;34m(\u001b[0m\u001b[0;34m)\u001b[0m\u001b[0;34m\u001b[0m\u001b[0;34m\u001b[0m\u001b[0m\n\u001b[1;32m      6\u001b[0m \u001b[0;34m\u001b[0m\u001b[0m\n\u001b[0;32m----> 7\u001b[0;31m \u001b[0magent\u001b[0m\u001b[0;34m.\u001b[0m\u001b[0mshow\u001b[0m\u001b[0;34m(\u001b[0m\u001b[0;34m)\u001b[0m\u001b[0;34m\u001b[0m\u001b[0;34m\u001b[0m\u001b[0m\n\u001b[0m",
      "\u001b[0;32m<ipython-input-58-045731bb7a01>\u001b[0m in \u001b[0;36mshow\u001b[0;34m(self)\u001b[0m\n\u001b[1;32m     66\u001b[0m     \u001b[0;32mdef\u001b[0m \u001b[0mshow\u001b[0m\u001b[0;34m(\u001b[0m\u001b[0mself\u001b[0m\u001b[0;34m)\u001b[0m\u001b[0;34m:\u001b[0m\u001b[0;34m\u001b[0m\u001b[0;34m\u001b[0m\u001b[0m\n\u001b[1;32m     67\u001b[0m         \u001b[0ms\u001b[0m \u001b[0;34m=\u001b[0m \u001b[0mself\u001b[0m\u001b[0;34m.\u001b[0m\u001b[0menv\u001b[0m\u001b[0;34m.\u001b[0m\u001b[0mreset\u001b[0m\u001b[0;34m(\u001b[0m\u001b[0;34m)\u001b[0m\u001b[0;34m\u001b[0m\u001b[0;34m\u001b[0m\u001b[0m\n\u001b[0;32m---> 68\u001b[0;31m         \u001b[0mimg\u001b[0m \u001b[0;34m=\u001b[0m \u001b[0mself\u001b[0m\u001b[0;34m.\u001b[0m\u001b[0menv\u001b[0m\u001b[0;34m.\u001b[0m\u001b[0mrender\u001b[0m\u001b[0;34m(\u001b[0m\u001b[0;34m)\u001b[0m\u001b[0;34m\u001b[0m\u001b[0;34m\u001b[0m\u001b[0m\n\u001b[0m\u001b[1;32m     69\u001b[0m         \u001b[0mdone\u001b[0m \u001b[0;34m=\u001b[0m \u001b[0;32mFalse\u001b[0m\u001b[0;34m\u001b[0m\u001b[0;34m\u001b[0m\u001b[0m\n\u001b[1;32m     70\u001b[0m         \u001b[0;32mwhile\u001b[0m \u001b[0;32mnot\u001b[0m \u001b[0mdone\u001b[0m\u001b[0;34m:\u001b[0m\u001b[0;34m\u001b[0m\u001b[0;34m\u001b[0m\u001b[0m\n",
      "\u001b[0;32m/usr/local/lib/python3.6/dist-packages/gym/core.py\u001b[0m in \u001b[0;36mrender\u001b[0;34m(self, mode, **kwargs)\u001b[0m\n\u001b[1;32m    231\u001b[0m \u001b[0;34m\u001b[0m\u001b[0m\n\u001b[1;32m    232\u001b[0m     \u001b[0;32mdef\u001b[0m \u001b[0mrender\u001b[0m\u001b[0;34m(\u001b[0m\u001b[0mself\u001b[0m\u001b[0;34m,\u001b[0m \u001b[0mmode\u001b[0m\u001b[0;34m=\u001b[0m\u001b[0;34m'human'\u001b[0m\u001b[0;34m,\u001b[0m \u001b[0;34m**\u001b[0m\u001b[0mkwargs\u001b[0m\u001b[0;34m)\u001b[0m\u001b[0;34m:\u001b[0m\u001b[0;34m\u001b[0m\u001b[0;34m\u001b[0m\u001b[0m\n\u001b[0;32m--> 233\u001b[0;31m         \u001b[0;32mreturn\u001b[0m \u001b[0mself\u001b[0m\u001b[0;34m.\u001b[0m\u001b[0menv\u001b[0m\u001b[0;34m.\u001b[0m\u001b[0mrender\u001b[0m\u001b[0;34m(\u001b[0m\u001b[0mmode\u001b[0m\u001b[0;34m,\u001b[0m \u001b[0;34m**\u001b[0m\u001b[0mkwargs\u001b[0m\u001b[0;34m)\u001b[0m\u001b[0;34m\u001b[0m\u001b[0;34m\u001b[0m\u001b[0m\n\u001b[0m\u001b[1;32m    234\u001b[0m \u001b[0;34m\u001b[0m\u001b[0m\n\u001b[1;32m    235\u001b[0m     \u001b[0;32mdef\u001b[0m \u001b[0mclose\u001b[0m\u001b[0;34m(\u001b[0m\u001b[0mself\u001b[0m\u001b[0;34m)\u001b[0m\u001b[0;34m:\u001b[0m\u001b[0;34m\u001b[0m\u001b[0;34m\u001b[0m\u001b[0m\n",
      "\u001b[0;32m/usr/local/lib/python3.6/dist-packages/gym/envs/classic_control/cartpole.py\u001b[0m in \u001b[0;36mrender\u001b[0;34m(self, mode)\u001b[0m\n\u001b[1;32m    172\u001b[0m \u001b[0;34m\u001b[0m\u001b[0m\n\u001b[1;32m    173\u001b[0m         \u001b[0;32mif\u001b[0m \u001b[0mself\u001b[0m\u001b[0;34m.\u001b[0m\u001b[0mviewer\u001b[0m \u001b[0;32mis\u001b[0m \u001b[0;32mNone\u001b[0m\u001b[0;34m:\u001b[0m\u001b[0;34m\u001b[0m\u001b[0;34m\u001b[0m\u001b[0m\n\u001b[0;32m--> 174\u001b[0;31m             \u001b[0;32mfrom\u001b[0m \u001b[0mgym\u001b[0m\u001b[0;34m.\u001b[0m\u001b[0menvs\u001b[0m\u001b[0;34m.\u001b[0m\u001b[0mclassic_control\u001b[0m \u001b[0;32mimport\u001b[0m \u001b[0mrendering\u001b[0m\u001b[0;34m\u001b[0m\u001b[0;34m\u001b[0m\u001b[0m\n\u001b[0m\u001b[1;32m    175\u001b[0m             \u001b[0mself\u001b[0m\u001b[0;34m.\u001b[0m\u001b[0mviewer\u001b[0m \u001b[0;34m=\u001b[0m \u001b[0mrendering\u001b[0m\u001b[0;34m.\u001b[0m\u001b[0mViewer\u001b[0m\u001b[0;34m(\u001b[0m\u001b[0mscreen_width\u001b[0m\u001b[0;34m,\u001b[0m \u001b[0mscreen_height\u001b[0m\u001b[0;34m)\u001b[0m\u001b[0;34m\u001b[0m\u001b[0;34m\u001b[0m\u001b[0m\n\u001b[1;32m    176\u001b[0m             \u001b[0ml\u001b[0m\u001b[0;34m,\u001b[0m \u001b[0mr\u001b[0m\u001b[0;34m,\u001b[0m \u001b[0mt\u001b[0m\u001b[0;34m,\u001b[0m \u001b[0mb\u001b[0m \u001b[0;34m=\u001b[0m \u001b[0;34m-\u001b[0m\u001b[0mcartwidth\u001b[0m \u001b[0;34m/\u001b[0m \u001b[0;36m2\u001b[0m\u001b[0;34m,\u001b[0m \u001b[0mcartwidth\u001b[0m \u001b[0;34m/\u001b[0m \u001b[0;36m2\u001b[0m\u001b[0;34m,\u001b[0m \u001b[0mcartheight\u001b[0m \u001b[0;34m/\u001b[0m \u001b[0;36m2\u001b[0m\u001b[0;34m,\u001b[0m \u001b[0;34m-\u001b[0m\u001b[0mcartheight\u001b[0m \u001b[0;34m/\u001b[0m \u001b[0;36m2\u001b[0m\u001b[0;34m\u001b[0m\u001b[0;34m\u001b[0m\u001b[0m\n",
      "\u001b[0;32m/usr/local/lib/python3.6/dist-packages/gym/envs/classic_control/rendering.py\u001b[0m in \u001b[0;36m<module>\u001b[0;34m()\u001b[0m\n\u001b[1;32m     23\u001b[0m \u001b[0;34m\u001b[0m\u001b[0m\n\u001b[1;32m     24\u001b[0m \u001b[0;32mtry\u001b[0m\u001b[0;34m:\u001b[0m\u001b[0;34m\u001b[0m\u001b[0;34m\u001b[0m\u001b[0m\n\u001b[0;32m---> 25\u001b[0;31m     \u001b[0;32mfrom\u001b[0m \u001b[0mpyglet\u001b[0m\u001b[0;34m.\u001b[0m\u001b[0mgl\u001b[0m \u001b[0;32mimport\u001b[0m \u001b[0;34m*\u001b[0m\u001b[0;34m\u001b[0m\u001b[0;34m\u001b[0m\u001b[0m\n\u001b[0m\u001b[1;32m     26\u001b[0m \u001b[0;32mexcept\u001b[0m \u001b[0mImportError\u001b[0m \u001b[0;32mas\u001b[0m \u001b[0me\u001b[0m\u001b[0;34m:\u001b[0m\u001b[0;34m\u001b[0m\u001b[0;34m\u001b[0m\u001b[0m\n\u001b[1;32m     27\u001b[0m     raise ImportError('''\n",
      "\u001b[0;32m/usr/local/lib/python3.6/dist-packages/pyglet/gl/__init__.py\u001b[0m in \u001b[0;36m<module>\u001b[0;34m()\u001b[0m\n\u001b[1;32m    233\u001b[0m \u001b[0;32melif\u001b[0m \u001b[0mcompat_platform\u001b[0m \u001b[0;34m==\u001b[0m \u001b[0;34m'darwin'\u001b[0m\u001b[0;34m:\u001b[0m\u001b[0;34m\u001b[0m\u001b[0;34m\u001b[0m\u001b[0m\n\u001b[1;32m    234\u001b[0m     \u001b[0;32mfrom\u001b[0m \u001b[0;34m.\u001b[0m\u001b[0mcocoa\u001b[0m \u001b[0;32mimport\u001b[0m \u001b[0mCocoaConfig\u001b[0m \u001b[0;32mas\u001b[0m \u001b[0mConfig\u001b[0m\u001b[0;34m\u001b[0m\u001b[0;34m\u001b[0m\u001b[0m\n\u001b[0;32m--> 235\u001b[0;31m \u001b[0;32mdel\u001b[0m \u001b[0mbase\u001b[0m  \u001b[0;31m# noqa: F821\u001b[0m\u001b[0;34m\u001b[0m\u001b[0;34m\u001b[0m\u001b[0m\n\u001b[0m\u001b[1;32m    236\u001b[0m \u001b[0;34m\u001b[0m\u001b[0m\n\u001b[1;32m    237\u001b[0m \u001b[0;34m\u001b[0m\u001b[0m\n",
      "\u001b[0;31mNameError\u001b[0m: name 'base' is not defined"
     ]
    }
   ],
   "source": [
    "from IPython import display\n",
    "from pyvirtualdisplay import Display\n",
    "\n",
    "d = Display()\n",
    "d.start()\n",
    "\n",
    "agent.show()"
   ]
  },
  {
   "cell_type": "code",
   "execution_count": null,
   "metadata": {
    "id": "x1tZjZXQCCpE"
   },
   "outputs": [],
   "source": []
  }
 ],
 "metadata": {
  "accelerator": "GPU",
  "colab": {
   "collapsed_sections": [],
   "name": "DQNによるCartPole.ipynb",
   "provenance": []
  },
  "kernelspec": {
   "display_name": "Python 3",
   "language": "python",
   "name": "python3"
  },
  "language_info": {
   "codemirror_mode": {
    "name": "ipython",
    "version": 3
   },
   "file_extension": ".py",
   "mimetype": "text/x-python",
   "name": "python",
   "nbconvert_exporter": "python",
   "pygments_lexer": "ipython3",
   "version": "3.7.4"
  }
 },
 "nbformat": 4,
 "nbformat_minor": 1
}
