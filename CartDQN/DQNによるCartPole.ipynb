{
 "cells": [
  {
   "cell_type": "markdown",
   "metadata": {
    "id": "i58tDO0e80z3"
   },
   "source": [
    "# 可視化のための依存環境&ライブラリ"
   ]
  },
  {
   "cell_type": "code",
   "execution_count": 1,
   "metadata": {
    "id": "dQlQBDyizoM3"
   },
   "outputs": [],
   "source": [
    "import gym\n",
    "import tensorflow as tf\n",
    "from tensorflow import keras\n",
    "from tensorflow.keras.models import Sequential\n",
    "from tensorflow.keras.layers import Flatten, Dense, Dropout, Activation\n",
    "import numpy as np\n",
    "import random\n",
    "import matplotlib\n",
    "import matplotlib.pyplot as plt\n",
    "%matplotlib inline\n",
    "from tqdm import tqdm\n",
    "from collections import deque\n",
    "# d = Display()\n",
    "# d.start()"
   ]
  },
  {
   "cell_type": "code",
   "execution_count": 2,
   "metadata": {
    "id": "LbwPVvVSii1G"
   },
   "outputs": [],
   "source": [
    "class QNetwork():\n",
    "  def __init__(self, action_space):\n",
    "\n",
    "    model = Sequential()\n",
    "    model.add(Dense(128, input_dim = 4))\n",
    "    model.add(Activation(\"relu\"))\n",
    "    model.add(Dense(128))\n",
    "    model.add(Activation(\"relu\"))\n",
    "    model.add(Dense(action_space))\n",
    "    opt = keras.optimizers.Adam(learning_rate=0.01)\n",
    "    model.compile(loss='mse', optimizer=opt)\n",
    "    self.model = model\n",
    "\n",
    "    model = Sequential()\n",
    "    model.add(Dense(128, input_dim = 4))\n",
    "    model.add(Activation(\"relu\"))\n",
    "    model.add(Dense(128))\n",
    "    model.add(Activation(\"relu\"))\n",
    "    model.add(Dense(action_space))\n",
    "    opt = keras.optimizers.Adam(learning_rate=0.01)\n",
    "    model.compile(loss='mse', optimizer=opt)\n",
    "    self.teacher_model = model\n",
    "    self.update_teacher()\n",
    "  \n",
    "  def predict(self, x):\n",
    "    y = self.model.predict(x)\n",
    "    return y\n",
    "\n",
    "  def predict_by_teacher(self, x):\n",
    "    y = self.teacher_model.predict(x)\n",
    "    return y\n",
    "\n",
    "  def update_teacher(self):\n",
    "    self.teacher_model.set_weights(self.model.get_weights())\n",
    "  \n",
    "\n",
    "  "
   ]
  },
  {
   "cell_type": "code",
   "execution_count": 3,
   "metadata": {
    "id": "rmPd7sz9731n"
   },
   "outputs": [],
   "source": [
    "class Trainer():\n",
    "  def __init__(self, env, max_len = 1024, batch = 64, gamma = 0.95):\n",
    "    self.gamma = gamma\n",
    "    self.env = env\n",
    "    self.env.reset()\n",
    "    self.QNet = QNetwork(2)\n",
    "    self.experiences = deque(maxlen = max_len)\n",
    "    self.batch_size = batch\n",
    "    self.training = False\n",
    "\n",
    "  def train(self):\n",
    "    self.run_episode()\n",
    "\n",
    "  def step(self, num, s):\n",
    "    next_s, reward, d, _  = self.env.step(num)\n",
    "    self.experiences.append([s, next_s, reward, d, num]) #[現在の状態, 変位先, 報酬, 終了か, actionの番号]\n",
    "    return next_s, reward, d\n",
    "\n",
    "  def policy(self, s, epsilon = 0.1):\n",
    "    if np.random.random() <= epsilon:\n",
    "      return np.random.randint(2)\n",
    "    else:\n",
    "      return np.argmax(self.QNet.predict(np.array([np.array(s)])))\n",
    "\n",
    "  def run_episode(self, times = 400):\n",
    "    all = [] \n",
    "    for cnt in tqdm(range(times)):\n",
    "      done = False\n",
    "      s = self.env.reset()\n",
    "      stand_count = 0\n",
    "\n",
    "      if cnt%10 == 0:\n",
    "        self.QNet.update_teacher()\n",
    "\n",
    "      if self.training:\n",
    "        self.update()\n",
    "\n",
    "      while not done:\n",
    "        stand_count += 1\n",
    "        next_s, reward, done = self.step(self.policy(s), s)\n",
    "        \n",
    "        if not self.training:\n",
    "          if len(self.experiences) == self.batch_size:\n",
    "            self.training = True\n",
    "        s = next_s\n",
    "        if done:\n",
    "          all.append(stand_count)\n",
    "          print(stand_count)\n",
    "\n",
    "    return plt.plot(all)\n",
    "\n",
    "\n",
    "  def update(self):\n",
    "    exp = random.sample(self.experiences, self.batch_size)\n",
    "    target = []\n",
    "    state = []\n",
    "    for e in exp:\n",
    "      s, next_s, reward, done, num = e\n",
    "      y = self.QNet.predict(np.array([np.array(s)]))\n",
    "      if not done:\n",
    "        reward += self.gamma * np.max(self.QNet.predict_by_teacher(np.array([np.array(next_s)])))\n",
    "\n",
    "      r = np.array([y[0][0], reward]) if num == 1 else np.array([reward, y[0][1]])\n",
    "      target.append(r)\n",
    "      state.append(s)\n",
    "\n",
    "    state = np.array(state)\n",
    "    target = np.array(target)\n",
    "    self.QNet.model.fit(state, target)\n",
    "\n",
    "  def show(self):\n",
    "    s = self.env.reset()\n",
    "    self.env.render()\n",
    "    done = False\n",
    "    while not done:\n",
    "        next_s, reward, done = self.step(np.argmax(self.QNet.predict(np.array([np.array(s)]))), s)\n",
    "        s = next_s\n",
    "        self.env.render()\n",
    "\n",
    "\n"
   ]
  },
  {
   "cell_type": "code",
   "execution_count": 4,
   "metadata": {
    "colab": {
     "base_uri": "https://localhost:8080/",
     "height": 1000
    },
    "id": "tA3nqkDYbi5g",
    "outputId": "6c5b0cf7-1ff0-4faa-d2d8-2d1582036ca4"
   },
   "outputs": [],
   "source": [
    "ENV = \"CartPole-v1\"\n",
    "env = gym.make(ENV)\n",
    "trainer = Trainer(env)\n",
    "trainer.QNet.model.load_weights(\"param.hdf5\")"
   ]
  },
  {
   "cell_type": "code",
   "execution_count": 12,
   "metadata": {
    "id": "1LSkMcsVHh_0"
   },
   "outputs": [],
   "source": [
    "# trainer.QNet.model.save_weights('param.hdf5')"
   ]
  },
  {
   "cell_type": "code",
   "execution_count": 15,
   "metadata": {
    "colab": {
     "base_uri": "https://localhost:8080/",
     "height": 17
    },
    "id": "fj3U7HDQH0-c",
    "outputId": "7600f205-cc4c-4cdb-cd4e-a2d4baf66193"
   },
   "outputs": [
    {
     "data": {
      "application/javascript": [
       "\n",
       "    async function download(id, filename, size) {\n",
       "      if (!google.colab.kernel.accessAllowed) {\n",
       "        return;\n",
       "      }\n",
       "      const div = document.createElement('div');\n",
       "      const label = document.createElement('label');\n",
       "      label.textContent = `Downloading \"${filename}\": `;\n",
       "      div.appendChild(label);\n",
       "      const progress = document.createElement('progress');\n",
       "      progress.max = size;\n",
       "      div.appendChild(progress);\n",
       "      document.body.appendChild(div);\n",
       "\n",
       "      const buffers = [];\n",
       "      let downloaded = 0;\n",
       "\n",
       "      const channel = await google.colab.kernel.comms.open(id);\n",
       "      // Send a message to notify the kernel that we're ready.\n",
       "      channel.send({})\n",
       "\n",
       "      for await (const message of channel.messages) {\n",
       "        // Send a message to notify the kernel that we're ready.\n",
       "        channel.send({})\n",
       "        if (message.buffers) {\n",
       "          for (const buffer of message.buffers) {\n",
       "            buffers.push(buffer);\n",
       "            downloaded += buffer.byteLength;\n",
       "            progress.value = downloaded;\n",
       "          }\n",
       "        }\n",
       "      }\n",
       "      const blob = new Blob(buffers, {type: 'application/binary'});\n",
       "      const a = document.createElement('a');\n",
       "      a.href = window.URL.createObjectURL(blob);\n",
       "      a.download = filename;\n",
       "      div.appendChild(a);\n",
       "      a.click();\n",
       "      div.remove();\n",
       "    }\n",
       "  "
      ],
      "text/plain": [
       "<IPython.core.display.Javascript object>"
      ]
     },
     "metadata": {
      "tags": []
     },
     "output_type": "display_data"
    },
    {
     "data": {
      "application/javascript": [
       "download(\"download_364c8dd8-8f68-4271-9c36-3dc8705948e6\", \"param.hdf5\", 85488)"
      ],
      "text/plain": [
       "<IPython.core.display.Javascript object>"
      ]
     },
     "metadata": {
      "tags": []
     },
     "output_type": "display_data"
    }
   ],
   "source": [
    "# from google.colab import files\n",
    "# files.download(\"./param.hdf5\")"
   ]
  },
  {
   "cell_type": "code",
   "execution_count": 7,
   "metadata": {
    "colab": {
     "base_uri": "https://localhost:8080/",
     "height": 479
    },
    "id": "NeaTh8naO88U",
    "outputId": "09055988-3c54-448f-cc7b-b788c52e58c3"
   },
   "outputs": [],
   "source": [
    "trainer.show()"
   ]
  },
  {
   "cell_type": "code",
   "execution_count": null,
   "metadata": {
    "id": "0OjT4HUBZ29y"
   },
   "outputs": [],
   "source": [
    "env = gym.make(\"CartPole-v1\")\n",
    "env.reset()\n",
    "env.render('rgb_array').shape\n",
    "img = plt.imshow(env.render('rgb_array'))\n",
    "for _ in range(100):\n",
    "    o, r, l, i = env.step(env.action_space.sample()) # 本当はDNNからアクションを入れる\n",
    "\n",
    "    display.clear_output(wait=True)\n",
    "    img.set_data(env.render('rgb_array'))\n",
    "    plt.axis('off')\n",
    "    display.display(plt.gcf())\n",
    "\n",
    "    if l:\n",
    "        env.reset()"
   ]
  },
  {
   "cell_type": "code",
   "execution_count": null,
   "metadata": {
    "id": "x1tZjZXQCCpE"
   },
   "outputs": [],
   "source": []
  }
 ],
 "metadata": {
  "accelerator": "GPU",
  "colab": {
   "collapsed_sections": [],
   "name": "DQNによるCartPole.ipynb",
   "provenance": []
  },
  "kernelspec": {
   "display_name": "Python 3",
   "language": "python",
   "name": "python3"
  },
  "language_info": {
   "codemirror_mode": {
    "name": "ipython",
    "version": 3
   },
   "file_extension": ".py",
   "mimetype": "text/x-python",
   "name": "python",
   "nbconvert_exporter": "python",
   "pygments_lexer": "ipython3",
   "version": "3.7.4"
  }
 },
 "nbformat": 4,
 "nbformat_minor": 1
}
