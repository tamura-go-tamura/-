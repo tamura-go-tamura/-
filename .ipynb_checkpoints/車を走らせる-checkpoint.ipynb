{
 "cells": [
  {
   "cell_type": "code",
   "execution_count": 1,
   "metadata": {},
   "outputs": [
    {
     "name": "stdout",
     "output_type": "stream",
     "text": [
      "Collecting tqdm\n",
      "  Using cached https://files.pythonhosted.org/packages/28/7e/281edb5bc3274dfb894d90f4dbacfceaca381c2435ec6187a2c6f329aed7/tqdm-4.48.2-py2.py3-none-any.whl\n",
      "Installing collected packages: tqdm\n",
      "Successfully installed tqdm-4.48.2\n",
      "Requirement already satisfied: matplotlib in /usr/local/lib/python3.7/site-packages (3.3.1)\n",
      "Requirement already satisfied: cycler>=0.10 in /usr/local/lib/python3.7/site-packages (from matplotlib) (0.10.0)\n",
      "Requirement already satisfied: kiwisolver>=1.0.1 in /usr/local/lib/python3.7/site-packages (from matplotlib) (1.2.0)\n",
      "Requirement already satisfied: certifi>=2020.06.20 in /usr/local/lib/python3.7/site-packages (from matplotlib) (2020.6.20)\n",
      "Requirement already satisfied: pyparsing!=2.0.4,!=2.1.2,!=2.1.6,>=2.0.3 in /usr/local/lib/python3.7/site-packages (from matplotlib) (2.4.7)\n",
      "Requirement already satisfied: python-dateutil>=2.1 in /usr/local/lib/python3.7/site-packages (from matplotlib) (2.8.1)\n",
      "Requirement already satisfied: numpy>=1.15 in /usr/local/lib/python3.7/site-packages (from matplotlib) (1.18.5)\n",
      "Requirement already satisfied: pillow>=6.2.0 in /usr/local/lib/python3.7/site-packages (from matplotlib) (7.2.0)\n",
      "Requirement already satisfied: six in /usr/local/lib/python3.7/site-packages (from cycler>=0.10->matplotlib) (1.15.0)\n"
     ]
    }
   ],
   "source": [
    "!pip3 install tqdm\n",
    "!pip3 install matplotlib\n",
    "import gym\n",
    "import numpy as np\n",
    "from tqdm import tqdm\n",
    "import matplotlib.pyplot as plt"
   ]
  },
  {
   "cell_type": "code",
   "execution_count": 5,
   "metadata": {},
   "outputs": [],
   "source": [
    "class Q:\n",
    "    def __init__(self, env):\n",
    "        self.env = env\n",
    "        self.env_low = self.env.observation_space.low # 位置と速度の最小値\n",
    "        self.env_high = self.env.observation_space.high #　位置と速度の最大値\n",
    "        self.env_dx = (self.env_high - self.env_low) / 40 # 50等分\n",
    "        self.q_table = np.zeros((40,40,3))\n",
    "        \n",
    "    def get_status(self, _observation):\n",
    "        position = int((_observation[0] - self.env_low[0])/self.env_dx[0])\n",
    "        velocity = int((_observation[1] - self.env_low[1])/self.env_dx[1])\n",
    "        return position, velocity\n",
    "    \n",
    "    def policy(self, s, epsilon = 0.1):\n",
    "        if np.random.random() <= epsilon:\n",
    "            return np.random.randint(3)\n",
    "        else:\n",
    "            p, v = self.get_status(s)\n",
    "            if self.q_table[p][v][0] == 0 and self.q_table[p][v][1] == 0 and self.q_table[p][v][2] == 0:\n",
    "                return np.random.randint(3)\n",
    "            else:\n",
    "                return np.argmax(self.q_table[p][v])\n",
    "    \n",
    "    def learn(self, time = 1000, alpha = 0.2, gamma = 0.99):\n",
    "        log = []\n",
    "        for _ in tqdm(range(time)):\n",
    "            total = 0\n",
    "            s = self.env.reset()\n",
    "            done = False\n",
    "            \n",
    "            while not done:\n",
    "                a = self.policy(s)\n",
    "                next_s, reward, done, _ = self.env.step(a)\n",
    "                total += reward\n",
    "                \n",
    "                p, v = self.get_status(next_s)\n",
    "                G = reward + gamma * max(self.q_table[p][v])\n",
    "                \n",
    "                p,v = self.get_status(s)\n",
    "                self.q_table[p][v][a] += alpha*(G - self.q_table[p][v][a])\n",
    "                s = next_s\n",
    "\n",
    "            log.append(total)\n",
    "        return plt.plot(log)\n",
    "\n",
    "    def show(self):\n",
    "        s = self.env.reset()\n",
    "        self.env.render()\n",
    "        done = False\n",
    "        while not done:\n",
    "            p, v = self.get_status(s)\n",
    "            s, _, done, _ = self.env.step(np.argmax(self.q_table[p][v]))\n",
    "            self.env.render()\n",
    "                \n",
    "        self.env.reset()\n",
    "        self.env.close()\n",
    "            \n",
    "            \n",
    "        "
   ]
  },
  {
   "cell_type": "code",
   "execution_count": 6,
   "metadata": {},
   "outputs": [
    {
     "name": "stderr",
     "output_type": "stream",
     "text": [
      "100%|██████████| 1000/1000 [00:21<00:00, 47.25it/s]\n"
     ]
    },
    {
     "data": {
      "text/plain": [
       "[<matplotlib.lines.Line2D at 0x121c74390>]"
      ]
     },
     "execution_count": 6,
     "metadata": {},
     "output_type": "execute_result"
    },
    {
     "data": {
      "image/png": "[encoded data removed]",
      "text/plain": [
       "<Figure size 432x288 with 1 Axes>"
      ]
     },
     "metadata": {
      "needs_background": "light"
     },
     "output_type": "display_data"
    }
   ],
   "source": [
    "env = gym.make('MountainCar-v0')\n",
    "agent = Q(env)\n",
    "agent.learn()"
   ]
  },
  {
   "cell_type": "code",
   "execution_count": 7,
   "metadata": {},
   "outputs": [],
   "source": [
    "agent.show()"
   ]
  },
  {
   "cell_type": "code",
   "execution_count": null,
   "metadata": {},
   "outputs": [],
   "source": [
    "envi = gym.make('MountainCar-v0')\n",
    "envi.reset()\n",
    "envi.render()"
   ]
  },
  {
   "cell_type": "code",
   "execution_count": 5,
   "metadata": {},
   "outputs": [],
   "source": [
    "exit()\n"
   ]
  },
  {
   "cell_type": "code",
   "execution_count": null,
   "metadata": {},
   "outputs": [],
   "source": []
  },
  {
   "cell_type": "code",
   "execution_count": null,
   "metadata": {},
   "outputs": [],
   "source": []
  },
  {
   "cell_type": "code",
   "execution_count": null,
   "metadata": {},
   "outputs": [],
   "source": []
  }
 ],
 "metadata": {
  "kernelspec": {
   "display_name": "Python 3",
   "language": "python",
   "name": "python3"
  },
  "language_info": {
   "codemirror_mode": {
    "name": "ipython",
    "version": 3
   },
   "file_extension": ".py",
   "mimetype": "text/x-python",
   "name": "python",
   "nbconvert_exporter": "python",
   "pygments_lexer": "ipython3",
   "version": "3.7.4"
  }
 },
 "nbformat": 4,
 "nbformat_minor": 4
}
