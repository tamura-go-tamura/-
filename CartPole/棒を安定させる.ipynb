{
 "cells": [
  {
   "cell_type": "code",
   "execution_count": 3,
   "metadata": {},
   "outputs": [],
   "source": [
    "import gym\n",
    "import tensorflow as tf\n",
    "import numpy as np\n",
    "import random\n",
    "import matplotlib\n",
    "import matplotlib.pyplot as plt\n",
    "%matplotlib inline\n",
    "import math\n",
    "import glob\n",
    "\n",
    "from tqdm import tqdm"
   ]
  },
  {
   "cell_type": "code",
   "execution_count": 7,
   "metadata": {},
   "outputs": [],
   "source": [
    "class SARSA:\n",
    "    def __init__(self, env):\n",
    "        self.env = env\n",
    "        self.env_low = self.env.observation_space.low # 状態最小値\n",
    "        self.env_high = self.env.observation_space.high #　状態最大値\n",
    "        self.env_dx = (self.env_high - self.env_low) / 10\n",
    "        \n",
    "        self.q_table = np.zeros((10,10,10,4))\n",
    "        \n",
    "    def get_status(self, _observation):\n",
    "        cos = int((_observation[0] - self.env_low[0])/self.env_dx[0])\n",
    "        sin = int((_observation[1] - self.env_low[1])/self.env_dx[1])\n",
    "        dot = int((_observation[2] - self.env_low[2])/self.env_dx[2])\n",
    "        return cos, sin, dot\n",
    "    \n",
    "    def policy(self, s, epi):\n",
    "        epsilon = 0.5 * (1 / (epi + 1))\n",
    "        if np.random.random() <= epsilon:\n",
    "            return [np.random.choice([-2, -1, 1, 2])]\n",
    "        else:\n",
    "            s1, s2, s3 = self.get_status(s)\n",
    "            return [np.argmax(self.q_table[s1][s2][s3])]\n",
    "    \n",
    "    def learn(self, time = 200000, alpha = 0.5, gamma = 0.99):\n",
    "        log = []\n",
    "        t_log = []\n",
    "        for j in range(time+1):\n",
    "            flag = 0\n",
    "            reward_flag = 0\n",
    "            t = 0\n",
    "            total = 0\n",
    "            s = self.env.reset()\n",
    "            done = False\n",
    "            \n",
    "            while not done:\n",
    "                t += 1\n",
    "                a = self.policy(s, j)\n",
    "                next_s, reward, done, _ = self.env.step(a)\n",
    "\n",
    "                if next_s[1] >= 0.95 and s[1] >= 0.95:\n",
    "                  flag += 1\n",
    "                elif next_s[1] >= 0.95 and s[1] < 0.95:\n",
    "                  flag = 1\n",
    "                elif next_s[1] < 0.95 and s[1] >= 0.95:\n",
    "                  flag = 0\n",
    "                elif next_s[1] < s[1] and s[1] >= 0.95:\n",
    "                  reward_flag = 1\n",
    "\n",
    "                reward += flag * 50\n",
    "\n",
    "                if reward_flag:\n",
    "                  reward -= 10000\n",
    "                  break\n",
    "                \n",
    "                total += reward\n",
    "                \n",
    "                \n",
    "                s1, s2, s3 = self.get_status(next_s)\n",
    "                G = reward + gamma * self.q_table[s1][s2][s3][self.policy(next_s, j)]\n",
    "                \n",
    "                s1, s2, s3 = self.get_status(s)\n",
    "                self.q_table[s1][s2][s3][a] += alpha*(G - self.q_table[s1][s2][s3][a])\n",
    "                s = next_s\n",
    "\n",
    "                if flag >= 20:\n",
    "                  break\n",
    "\n",
    "            t_log.append(t)\n",
    "            log.append(total)\n",
    "            if j %100 == 0:\n",
    "              print(str(j) + \" ===total reward=== : \" + str(total))\n",
    "        fig = plt.figure()\n",
    "        ax1 = fig.add_subplot(1, 2, 1)\n",
    "        ax2 = fig.add_subplot(1, 2, 2)\n",
    "        return ax1.plot(log), ax2.plot(t_log)\n",
    "\n",
    "    def show(self):\n",
    "        s = self.env.reset()\n",
    "        img = self.env.render()\n",
    "        done = False\n",
    "        while not done:\n",
    "          a = self.policy(s, 10000)\n",
    "          s, _, done, _ = self.env.step(a)\n",
    "          self.env.render()\n",
    "                \n",
    "        self.env.reset()\n",
    "        self.env.close()"
   ]
  },
  {
   "cell_type": "code",
   "execution_count": 8,
   "metadata": {},
   "outputs": [
    {
     "name": "stdout",
     "output_type": "stream",
     "text": [
      "0 ===total reward=== : 1042.3569920158475\n",
      "100 ===total reward=== : -680.2870545849776\n",
      "200 ===total reward=== : 2531.5736614738626\n",
      "300 ===total reward=== : 83.13882179851517\n",
      "400 ===total reward=== : 664.4492300550363\n",
      "500 ===total reward=== : 11.862989986083129\n",
      "600 ===total reward=== : 1186.9579894408885\n",
      "700 ===total reward=== : 132.00654043299744\n",
      "800 ===total reward=== : -392.82015947878\n",
      "900 ===total reward=== : 155.45774783343634\n",
      "1000 ===total reward=== : 2824.4734899418863\n"
     ]
    },
    {
     "data": {
      "text/plain": [
       "([<matplotlib.lines.Line2D at 0x14ff454d0>],\n",
       " [<matplotlib.lines.Line2D at 0x14ff45910>])"
      ]
     },
     "execution_count": 8,
     "metadata": {},
     "output_type": "execute_result"
    },
    {
     "data": {
      "image/png": "[encoded data removed]",
      "text/plain": [
       "<Figure size 432x288 with 2 Axes>"
      ]
     },
     "metadata": {
      "needs_background": "light"
     },
     "output_type": "display_data"
    }
   ],
   "source": [
    "env = gym.make(\"Pendulum-v0\")\n",
    "agent = SARSA(env)\n",
    "agent.learn(time = 1000)"
   ]
  },
  {
   "cell_type": "code",
   "execution_count": 13,
   "metadata": {},
   "outputs": [],
   "source": [
    "agent.show()"
   ]
  }
 ],
 "metadata": {
  "kernelspec": {
   "display_name": "Python 3",
   "language": "python",
   "name": "python3"
  },
  "language_info": {
   "codemirror_mode": {
    "name": "ipython",
    "version": 3
   },
   "file_extension": ".py",
   "mimetype": "text/x-python",
   "name": "python",
   "nbconvert_exporter": "python",
   "pygments_lexer": "ipython3",
   "version": "3.7.4"
  }
 },
 "nbformat": 4,
 "nbformat_minor": 4
}
